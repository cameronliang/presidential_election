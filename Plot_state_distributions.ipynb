{
 "cells": [
  {
   "cell_type": "code",
   "execution_count": 1,
   "id": "60336bbc",
   "metadata": {},
   "outputs": [],
   "source": [
    "import numpy as np\n",
    "from matplotlib import pylab as plt\n",
    "import pandas as pd \n",
    "from datetime import datetime as dt\n",
    "from datetime import date\n",
    "\n",
    "from poll_weight import add_poll_weights, cleanup_data, combine_districts \n",
    "from utils import election_stats, state_results, \\\n",
    "                  plot_electoral_vote_distribution, \\\n",
    "                    plot_nelectoral_vs_popular_vote\n",
    "from utils import std_weighted, filter_state_polls\n",
    "\n",
    "from simulation import simulate_elections"
   ]
  },
  {
   "cell_type": "code",
   "execution_count": 2,
   "id": "0d27f931",
   "metadata": {},
   "outputs": [],
   "source": [
    "# Read in polling data \n",
    "url = './data/president_polls.csv'\n",
    "pad = pd.read_csv(url)"
   ]
  },
  {
   "cell_type": "code",
   "execution_count": 3,
   "id": "6d9f1546",
   "metadata": {},
   "outputs": [],
   "source": [
    "pad = cleanup_data(pad)"
   ]
  },
  {
   "cell_type": "code",
   "execution_count": 15,
   "id": "1df4db9b",
   "metadata": {},
   "outputs": [
    {
     "data": {
      "text/plain": [
       "array(['Texas', 'Wisconsin', 'Florida', 'North Carolina', 'Massachusetts',\n",
       "       'Illinois', 'Michigan', 'Virginia', 'Nebraska', 'Nevada',\n",
       "       'New Hampshire', 'Arizona', 'Georgia', 'Minnesota', 'Pennsylvania',\n",
       "       'New Jersey', 'California', 'North Dakota', 'New York', 'Ohio',\n",
       "       'Indiana', 'Alaska', 'South Carolina', 'Iowa', 'Utah', 'Maryland',\n",
       "       'Delaware', 'Rhode Island', 'Montana', 'New Mexico', 'Connecticut',\n",
       "       'Colorado', 'Maine', 'Missouri', 'Arkansas', 'Washington',\n",
       "       'Oklahoma', 'Tennessee', 'West Virginia', 'Vermont', 'Oregon',\n",
       "       'South Dakota', 'Louisiana', 'Hawaii', 'Alabama', 'Idaho',\n",
       "       'Kansas', 'Kentucky', 'Mississippi', 'Wyoming'], dtype=object)"
      ]
     },
     "execution_count": 15,
     "metadata": {},
     "output_type": "execute_result"
    }
   ],
   "source": [
    "states = pad['state'].unique()\n",
    "states"
   ]
  },
  {
   "cell_type": "code",
   "execution_count": 21,
   "id": "f7b6ce6d",
   "metadata": {},
   "outputs": [],
   "source": [
    "def plot_state_party_pct_histograms(df, state,i):\n",
    "    \"\"\"\n",
    "    Filter the dataframe for a specific state and Democratic and Republican parties,\n",
    "    then plot separate histograms of the 'pct' column for each party using matplotlib.\n",
    "    \n",
    "    Parameters:\n",
    "    df (pandas.DataFrame): The input DataFrame containing polling data.\n",
    "    state (str): The name of the state to filter for.\n",
    "    \"\"\"\n",
    "    # Filter the dataframe for the specified state and Democratic and Republican parties\n",
    "    state_df = df[(df['state'] == state) & (df['party'].str.lower().isin(['dem', 'rep']))]\n",
    "    \n",
    "    # Replace infinite values with NaN\n",
    "    #state_df['pct'] = state_df['pct'].replace([np.inf, -np.inf], np.nan)\n",
    "    \n",
    "    # Separate DataFrames for each party\n",
    "    dem_df = state_df[state_df['party'].str.lower() == 'dem']\n",
    "    rep_df = state_df[state_df['party'].str.lower() == 'rep']\n",
    "    \n",
    "    # Set up the plot\n",
    "    fig, (ax1, ax2) = plt.subplots(1, 2, figsize=(16, 6))\n",
    "    \n",
    "    # Plot Democratic histogram\n",
    "    ax1.hist(dem_df['pct'].dropna(), bins=20, color='blue', alpha=0.7, edgecolor='black')\n",
    "    ax1.set_title(f'Democratic - {state}', fontsize=14)\n",
    "    ax1.set_xlabel('Vote Share Percentage', fontsize=12)\n",
    "    ax1.set_ylabel('Frequency', fontsize=12)\n",
    "    ax1.grid(True, linestyle='--', alpha=0.7)\n",
    "    \n",
    "    # Plot Republican histogram\n",
    "    ax2.hist(rep_df['pct'].dropna(), bins=20, color='red', alpha=0.7, edgecolor='black')\n",
    "    ax2.set_title(f'Republican - {state}', fontsize=14)\n",
    "    ax2.set_xlabel('Vote Share Percentage', fontsize=12)\n",
    "    ax2.set_ylabel('Frequency', fontsize=12)\n",
    "    ax2.grid(True, linestyle='--', alpha=0.7)\n",
    "    \n",
    "    # Adjust layout and display the plot\n",
    "    plt.tight_layout()\n",
    "    plt.savefig('./state_polls/%d_%s.png' % (i,state))\n",
    "    plt.clf()\n",
    "    \n",
    "    # Print summary statistics\n",
    "    print(f\"Democratic polls in {state}: {len(dem_df)}\")\n",
    "    print(f\"Republican polls in {state}: {len(rep_df)}\")\n",
    "    print(\"\\nDemocratic percentages summary:\")\n",
    "    print(dem_df['pct'].describe())\n",
    "    print(\"\\nRepublican percentages summary:\")\n",
    "    print(rep_df['pct'].describe())"
   ]
  },
  {
   "cell_type": "code",
   "execution_count": 22,
   "id": "611e65f8",
   "metadata": {},
   "outputs": [
    {
     "name": "stdout",
     "output_type": "stream",
     "text": [
      "Democratic polls in Texas: 84\n",
      "Republican polls in Texas: 84\n",
      "\n",
      "Democratic percentages summary:\n",
      "count    84.000000\n",
      "mean     40.082143\n",
      "std       3.921889\n",
      "min      31.000000\n",
      "25%      36.475000\n",
      "50%      40.000000\n",
      "75%      43.107500\n",
      "max      48.000000\n",
      "Name: pct, dtype: float64\n",
      "\n",
      "Republican percentages summary:\n",
      "count    84.000000\n",
      "mean     45.872976\n",
      "std       5.969525\n",
      "min      29.000000\n",
      "25%      44.000000\n",
      "50%      47.200000\n",
      "75%      49.925000\n",
      "max      55.000000\n",
      "Name: pct, dtype: float64\n",
      "Democratic polls in Wisconsin: 243\n",
      "Republican polls in Wisconsin: 243\n",
      "\n",
      "Democratic percentages summary:\n",
      "count    243.000000\n",
      "mean      45.574074\n",
      "std        4.428820\n",
      "min       34.000000\n",
      "25%       42.500000\n",
      "50%       47.000000\n",
      "75%       49.000000\n",
      "max       53.100000\n",
      "Name: pct, dtype: float64\n",
      "\n",
      "Republican percentages summary:\n",
      "count    243.000000\n",
      "mean      45.172387\n",
      "std        3.905783\n",
      "min       28.000000\n",
      "25%       43.000000\n",
      "50%       45.600000\n",
      "75%       47.800000\n",
      "max       57.000000\n",
      "Name: pct, dtype: float64\n",
      "Democratic polls in Florida: 119\n",
      "Republican polls in Florida: 119\n",
      "\n",
      "Democratic percentages summary:\n",
      "count    119.000000\n",
      "mean      41.941597\n",
      "std        4.479195\n",
      "min       31.000000\n",
      "25%       38.800000\n",
      "50%       42.000000\n",
      "75%       45.000000\n",
      "max       55.200000\n",
      "Name: pct, dtype: float64\n",
      "\n",
      "Republican percentages summary:\n",
      "count    119.00000\n",
      "mean      48.25916\n",
      "std        4.05096\n",
      "min       27.00000\n",
      "25%       46.35000\n",
      "50%       49.00000\n",
      "75%       50.45000\n",
      "max       56.60000\n",
      "Name: pct, dtype: float64\n",
      "Democratic polls in North Carolina: 196\n",
      "Republican polls in North Carolina: 196\n",
      "\n",
      "Democratic percentages summary:\n",
      "count    196.000000\n",
      "mean      43.611888\n",
      "std        4.711619\n",
      "min       32.000000\n",
      "25%       40.100000\n",
      "50%       45.000000\n",
      "75%       47.125000\n",
      "max       50.800000\n",
      "Name: pct, dtype: float64\n",
      "\n",
      "Republican percentages summary:\n",
      "count    196.000000\n",
      "mean      46.481020\n",
      "std        3.365906\n",
      "min       31.000000\n",
      "25%       45.000000\n",
      "50%       47.000000\n",
      "75%       48.925000\n",
      "max       54.000000\n",
      "Name: pct, dtype: float64\n",
      "Democratic polls in Massachusetts: 18\n",
      "Republican polls in Massachusetts: 18\n",
      "\n",
      "Democratic percentages summary:\n",
      "count    18.000000\n",
      "mean     54.827778\n",
      "std       7.240231\n",
      "min      43.000000\n",
      "25%      47.925000\n",
      "50%      56.400000\n",
      "75%      60.000000\n",
      "max      68.000000\n",
      "Name: pct, dtype: float64\n",
      "\n",
      "Republican percentages summary:\n",
      "count    18.000000\n",
      "mean     29.883333\n",
      "std       4.125708\n",
      "min      21.000000\n",
      "25%      27.250000\n",
      "50%      31.500000\n",
      "75%      33.025000\n",
      "max      35.000000\n",
      "Name: pct, dtype: float64\n",
      "Democratic polls in Illinois: 10\n",
      "Republican polls in Illinois: 10\n",
      "\n",
      "Democratic percentages summary:\n",
      "count    10.00000\n",
      "mean     51.56000\n",
      "std       4.88608\n",
      "min      43.40000\n",
      "25%      49.50000\n",
      "50%      51.00000\n",
      "75%      54.50000\n",
      "max      58.80000\n",
      "Name: pct, dtype: float64\n",
      "\n",
      "Republican percentages summary:\n",
      "count    10.000000\n",
      "mean     38.300000\n",
      "std       3.310253\n",
      "min      33.700000\n",
      "25%      35.375000\n",
      "50%      37.700000\n",
      "75%      41.800000\n",
      "max      42.200000\n",
      "Name: pct, dtype: float64\n",
      "Democratic polls in Michigan: 279\n",
      "Republican polls in Michigan: 279\n",
      "\n",
      "Democratic percentages summary:\n",
      "count    279.000000\n",
      "mean      44.012401\n",
      "std        4.668910\n",
      "min       29.000000\n",
      "25%       41.000000\n",
      "50%       44.400000\n",
      "75%       47.750000\n",
      "max       53.100000\n",
      "Name: pct, dtype: float64\n",
      "\n",
      "Republican percentages summary:\n",
      "count    279.000000\n",
      "mean      44.575090\n",
      "std        3.772074\n",
      "min       25.000000\n",
      "25%       43.000000\n",
      "50%       45.000000\n",
      "75%       47.000000\n",
      "max       53.000000\n",
      "Name: pct, dtype: float64\n",
      "Democratic polls in Virginia: 89\n",
      "Republican polls in Virginia: 89\n",
      "\n",
      "Democratic percentages summary:\n",
      "count    89.000000\n",
      "mean     44.455393\n",
      "std       4.448444\n",
      "min      36.000000\n",
      "25%      41.000000\n",
      "50%      44.000000\n",
      "75%      48.000000\n",
      "max      55.200000\n",
      "Name: pct, dtype: float64\n",
      "\n",
      "Republican percentages summary:\n",
      "count    89.000000\n",
      "mean     42.104270\n",
      "std       4.090904\n",
      "min      30.000000\n",
      "25%      39.000000\n",
      "50%      42.000000\n",
      "75%      44.000000\n",
      "max      55.000000\n",
      "Name: pct, dtype: float64\n",
      "Democratic polls in Nebraska: 23\n",
      "Republican polls in Nebraska: 23\n",
      "\n",
      "Democratic percentages summary:\n",
      "count    23.000000\n",
      "mean     41.739130\n",
      "std       6.993032\n",
      "min      30.900000\n",
      "25%      36.000000\n",
      "50%      42.000000\n",
      "75%      48.000000\n",
      "max      53.000000\n",
      "Name: pct, dtype: float64\n",
      "\n",
      "Republican percentages summary:\n",
      "count    23.000000\n",
      "mean     46.539130\n",
      "std       6.555063\n",
      "min      37.000000\n",
      "25%      42.000000\n",
      "50%      43.000000\n",
      "75%      53.000000\n",
      "max      58.000000\n",
      "Name: pct, dtype: float64\n",
      "Democratic polls in Nevada: 171\n",
      "Republican polls in Nevada: 171\n",
      "\n",
      "Democratic percentages summary:\n",
      "count    171.000000\n",
      "mean      43.046433\n",
      "std        5.286771\n",
      "min       27.000000\n",
      "25%       39.900000\n",
      "50%       43.000000\n",
      "75%       47.750000\n",
      "max       53.700000\n",
      "Name: pct, dtype: float64\n",
      "\n",
      "Republican percentages summary:\n",
      "count    171.000000\n",
      "mean      45.681111\n",
      "std        3.116305\n",
      "min       37.000000\n",
      "25%       43.950000\n",
      "50%       46.000000\n",
      "75%       48.000000\n",
      "max       52.000000\n",
      "Name: pct, dtype: float64\n",
      "Democratic polls in New Hampshire: 62\n",
      "Republican polls in New Hampshire: 62\n",
      "\n",
      "Democratic percentages summary:\n",
      "count    62.000000\n",
      "mean     45.832258\n",
      "std       5.202672\n",
      "min      30.900000\n",
      "25%      42.075000\n",
      "50%      46.150000\n",
      "75%      50.000000\n",
      "max      54.000000\n",
      "Name: pct, dtype: float64\n",
      "\n",
      "Republican percentages summary:\n",
      "count    62.000000\n",
      "mean     40.717742\n",
      "std       5.857223\n",
      "min      20.000000\n",
      "25%      39.000000\n",
      "50%      41.650000\n",
      "75%      43.950000\n",
      "max      52.800000\n",
      "Name: pct, dtype: float64\n",
      "Democratic polls in Arizona: 240\n",
      "Republican polls in Arizona: 240\n",
      "\n",
      "Democratic percentages summary:\n",
      "count    240.000000\n",
      "mean      42.724000\n",
      "std        4.691895\n",
      "min       30.000000\n",
      "25%       40.000000\n",
      "50%       43.000000\n",
      "75%       46.892500\n",
      "max       51.000000\n",
      "Name: pct, dtype: float64\n",
      "\n",
      "Republican percentages summary:\n",
      "count    240.000000\n",
      "mean      45.806250\n",
      "std        4.035857\n",
      "min       25.000000\n",
      "25%       44.000000\n",
      "50%       46.000000\n",
      "75%       48.525000\n",
      "max       54.000000\n",
      "Name: pct, dtype: float64\n",
      "Democratic polls in Georgia: 230\n",
      "Republican polls in Georgia: 230\n",
      "\n",
      "Democratic percentages summary:\n",
      "count    230.000000\n",
      "mean      43.125087\n",
      "std        4.618761\n",
      "min       29.000000\n",
      "25%       40.000000\n",
      "50%       44.000000\n",
      "75%       47.000000\n",
      "max       52.100000\n",
      "Name: pct, dtype: float64\n",
      "\n",
      "Republican percentages summary:\n",
      "count    230.000000\n",
      "mean      46.501739\n",
      "std        3.463388\n",
      "min       27.000000\n",
      "25%       45.000000\n",
      "50%       47.000000\n",
      "75%       49.000000\n",
      "max       52.300000\n",
      "Name: pct, dtype: float64\n",
      "Democratic polls in Minnesota: 45\n",
      "Republican polls in Minnesota: 45\n",
      "\n",
      "Democratic percentages summary:\n",
      "count    45.000000\n",
      "mean     44.804000\n",
      "std       4.929829\n",
      "min      34.600000\n",
      "25%      40.900000\n",
      "50%      46.000000\n",
      "75%      49.000000\n",
      "max      52.000000\n",
      "Name: pct, dtype: float64\n",
      "\n",
      "Republican percentages summary:\n",
      "count    45.000000\n",
      "mean     41.568444\n",
      "std       3.432424\n",
      "min      34.300000\n",
      "25%      39.000000\n",
      "50%      41.600000\n",
      "75%      44.000000\n",
      "max      49.000000\n",
      "Name: pct, dtype: float64\n",
      "Democratic polls in Pennsylvania: 307\n",
      "Republican polls in Pennsylvania: 307\n",
      "\n",
      "Democratic percentages summary:\n",
      "count    307.000000\n",
      "mean      44.700912\n",
      "std        4.205642\n",
      "min       32.000000\n",
      "25%       42.000000\n",
      "50%       45.000000\n",
      "75%       48.000000\n",
      "max       54.000000\n",
      "Name: pct, dtype: float64\n",
      "\n",
      "Republican percentages summary:\n",
      "count    307.000000\n",
      "mean      45.399479\n",
      "std        3.861234\n",
      "min       19.000000\n",
      "25%       44.000000\n",
      "50%       46.000000\n",
      "75%       48.000000\n",
      "max       52.000000\n",
      "Name: pct, dtype: float64\n",
      "Democratic polls in New Jersey: 5\n",
      "Republican polls in New Jersey: 5\n",
      "\n",
      "Democratic percentages summary:\n",
      "count     5.000000\n",
      "mean     46.160000\n",
      "std       6.429852\n",
      "min      40.000000\n",
      "25%      41.000000\n",
      "50%      45.700000\n",
      "75%      48.100000\n",
      "max      56.000000\n",
      "Name: pct, dtype: float64\n",
      "\n",
      "Republican percentages summary:\n",
      "count     5.00000\n",
      "mean     40.00000\n",
      "std       2.95973\n",
      "min      35.80000\n",
      "25%      39.40000\n",
      "50%      39.80000\n",
      "75%      41.00000\n",
      "max      44.00000\n",
      "Name: pct, dtype: float64\n",
      "Democratic polls in California: 59\n",
      "Republican polls in California: 59\n",
      "\n",
      "Democratic percentages summary:\n",
      "count    59.000000\n",
      "mean     54.277966\n",
      "std       5.202389\n",
      "min      40.000000\n",
      "25%      51.150000\n",
      "50%      54.400000\n",
      "75%      57.300000\n",
      "max      67.400000\n",
      "Name: pct, dtype: float64\n",
      "\n",
      "Republican percentages summary:\n",
      "count    59.000000\n",
      "mean     32.818644\n",
      "std       3.528283\n",
      "min      25.000000\n",
      "25%      30.900000\n",
      "50%      33.000000\n",
      "75%      35.000000\n",
      "max      42.400000\n",
      "Name: pct, dtype: float64\n"
     ]
    },
    {
     "name": "stdout",
     "output_type": "stream",
     "text": [
      "Democratic polls in North Dakota: 5\n",
      "Republican polls in North Dakota: 5\n",
      "\n",
      "Democratic percentages summary:\n",
      "count     5.000000\n",
      "mean     29.380000\n",
      "std       8.292889\n",
      "min      17.000000\n",
      "25%      28.000000\n",
      "50%      29.900000\n",
      "75%      32.000000\n",
      "max      40.000000\n",
      "Name: pct, dtype: float64\n",
      "\n",
      "Republican percentages summary:\n",
      "count     5.000000\n",
      "mean     55.240000\n",
      "std       5.127182\n",
      "min      50.000000\n",
      "25%      51.200000\n",
      "50%      54.000000\n",
      "75%      59.000000\n",
      "max      62.000000\n",
      "Name: pct, dtype: float64\n",
      "Democratic polls in New York: 34\n",
      "Republican polls in New York: 34\n",
      "\n",
      "Democratic percentages summary:\n",
      "count    34.000000\n",
      "mean     48.850000\n",
      "std       5.508465\n",
      "min      37.000000\n",
      "25%      46.000000\n",
      "50%      48.500000\n",
      "75%      52.000000\n",
      "max      60.600000\n",
      "Name: pct, dtype: float64\n",
      "\n",
      "Republican percentages summary:\n",
      "count    34.000000\n",
      "mean     36.794118\n",
      "std       4.162745\n",
      "min      28.000000\n",
      "25%      34.500000\n",
      "50%      37.000000\n",
      "75%      39.625000\n",
      "max      44.800000\n",
      "Name: pct, dtype: float64\n",
      "Democratic polls in Ohio: 72\n",
      "Republican polls in Ohio: 72\n",
      "\n",
      "Democratic percentages summary:\n",
      "count    72.000000\n",
      "mean     38.967917\n",
      "std       4.680248\n",
      "min      27.700000\n",
      "25%      36.750000\n",
      "50%      39.000000\n",
      "75%      43.000000\n",
      "max      46.700000\n",
      "Name: pct, dtype: float64\n",
      "\n",
      "Republican percentages summary:\n",
      "count    72.000000\n",
      "mean     47.589722\n",
      "std       5.465813\n",
      "min      32.800000\n",
      "25%      44.000000\n",
      "50%      48.700000\n",
      "75%      51.120000\n",
      "max      57.000000\n",
      "Name: pct, dtype: float64\n"
     ]
    },
    {
     "name": "stderr",
     "output_type": "stream",
     "text": [
      "C:\\Users\\Camer\\AppData\\Local\\Temp\\ipykernel_21496\\3956389222.py:21: RuntimeWarning: More than 20 figures have been opened. Figures created through the pyplot interface (`matplotlib.pyplot.figure`) are retained until explicitly closed and may consume too much memory. (To control this warning, see the rcParam `figure.max_open_warning`). Consider using `matplotlib.pyplot.close()`.\n",
      "  fig, (ax1, ax2) = plt.subplots(1, 2, figsize=(16, 6))\n"
     ]
    },
    {
     "name": "stdout",
     "output_type": "stream",
     "text": [
      "Democratic polls in Indiana: 8\n",
      "Republican polls in Indiana: 8\n",
      "\n",
      "Democratic percentages summary:\n",
      "count     8.000000\n",
      "mean     36.762500\n",
      "std       5.775549\n",
      "min      28.500000\n",
      "25%      32.375000\n",
      "50%      38.800000\n",
      "75%      41.025000\n",
      "max      43.000000\n",
      "Name: pct, dtype: float64\n",
      "\n",
      "Republican percentages summary:\n",
      "count     8.000000\n",
      "mean     51.662500\n",
      "std       5.437945\n",
      "min      44.500000\n",
      "25%      46.775000\n",
      "50%      53.400000\n",
      "75%      55.500000\n",
      "max      57.900000\n",
      "Name: pct, dtype: float64\n",
      "Democratic polls in Alaska: 11\n",
      "Republican polls in Alaska: 11\n",
      "\n",
      "Democratic percentages summary:\n",
      "count    11.000000\n",
      "mean     37.381818\n",
      "std       5.617974\n",
      "min      26.000000\n",
      "25%      36.000000\n",
      "50%      37.100000\n",
      "75%      41.500000\n",
      "max      43.100000\n",
      "Name: pct, dtype: float64\n",
      "\n",
      "Republican percentages summary:\n",
      "count    11.000000\n",
      "mean     48.600000\n",
      "std       5.414795\n",
      "min      37.000000\n",
      "25%      46.000000\n",
      "50%      49.000000\n",
      "75%      53.000000\n",
      "max      55.000000\n",
      "Name: pct, dtype: float64\n",
      "Democratic polls in South Carolina: 14\n",
      "Republican polls in South Carolina: 14\n",
      "\n",
      "Democratic percentages summary:\n",
      "count    14.000000\n",
      "mean     34.514286\n",
      "std       4.883072\n",
      "min      25.000000\n",
      "25%      32.500000\n",
      "50%      35.000000\n",
      "75%      36.500000\n",
      "max      42.000000\n",
      "Name: pct, dtype: float64\n",
      "\n",
      "Republican percentages summary:\n",
      "count    14.000000\n",
      "mean     48.885714\n",
      "std       3.903225\n",
      "min      41.000000\n",
      "25%      47.000000\n",
      "50%      50.000000\n",
      "75%      51.450000\n",
      "max      54.000000\n",
      "Name: pct, dtype: float64\n",
      "Democratic polls in Iowa: 27\n",
      "Republican polls in Iowa: 27\n",
      "\n",
      "Democratic percentages summary:\n",
      "count    27.000000\n",
      "mean     38.340741\n",
      "std       2.929592\n",
      "min      32.000000\n",
      "25%      36.950000\n",
      "50%      38.800000\n",
      "75%      40.000000\n",
      "max      44.600000\n",
      "Name: pct, dtype: float64\n",
      "\n",
      "Republican percentages summary:\n",
      "count    27.000000\n",
      "mean     47.914815\n",
      "std       3.796628\n",
      "min      38.300000\n",
      "25%      47.000000\n",
      "50%      48.200000\n",
      "75%      51.000000\n",
      "max      54.100000\n",
      "Name: pct, dtype: float64\n",
      "Democratic polls in Utah: 12\n",
      "Republican polls in Utah: 12\n",
      "\n",
      "Democratic percentages summary:\n",
      "count    12.000000\n",
      "mean     30.300000\n",
      "std       6.541893\n",
      "min      20.000000\n",
      "25%      25.000000\n",
      "50%      30.500000\n",
      "75%      36.100000\n",
      "max      39.000000\n",
      "Name: pct, dtype: float64\n",
      "\n",
      "Republican percentages summary:\n",
      "count    12.000000\n",
      "mean     49.491667\n",
      "std       5.904460\n",
      "min      39.700000\n",
      "25%      46.200000\n",
      "50%      48.000000\n",
      "75%      54.000000\n",
      "max      60.000000\n",
      "Name: pct, dtype: float64\n",
      "Democratic polls in Maryland: 28\n",
      "Republican polls in Maryland: 28\n",
      "\n",
      "Democratic percentages summary:\n",
      "count    28.000000\n",
      "mean     56.726429\n",
      "std       5.487884\n",
      "min      45.000000\n",
      "25%      53.300000\n",
      "50%      56.050000\n",
      "75%      61.557500\n",
      "max      65.300000\n",
      "Name: pct, dtype: float64\n",
      "\n",
      "Republican percentages summary:\n",
      "count    28.000000\n",
      "mean     32.670357\n",
      "std       2.249904\n",
      "min      28.000000\n",
      "25%      31.300000\n",
      "50%      32.250000\n",
      "75%      34.550000\n",
      "max      36.700000\n",
      "Name: pct, dtype: float64\n",
      "Democratic polls in Delaware: 3\n",
      "Republican polls in Delaware: 3\n",
      "\n",
      "Democratic percentages summary:\n",
      "count     3.000000\n",
      "mean     51.866667\n",
      "std       5.143280\n",
      "min      46.000000\n",
      "25%      50.000000\n",
      "50%      54.000000\n",
      "75%      54.800000\n",
      "max      55.600000\n",
      "Name: pct, dtype: float64\n",
      "\n",
      "Republican percentages summary:\n",
      "count     3.000000\n",
      "mean     36.333333\n",
      "std       0.585947\n",
      "min      35.900000\n",
      "25%      36.000000\n",
      "50%      36.100000\n",
      "75%      36.550000\n",
      "max      37.000000\n",
      "Name: pct, dtype: float64\n",
      "Democratic polls in Rhode Island: 11\n",
      "Republican polls in Rhode Island: 11\n",
      "\n",
      "Democratic percentages summary:\n",
      "count    11.000000\n",
      "mean     50.709091\n",
      "std       6.530766\n",
      "min      39.800000\n",
      "25%      48.000000\n",
      "50%      52.000000\n",
      "75%      54.500000\n",
      "max      60.000000\n",
      "Name: pct, dtype: float64\n",
      "\n",
      "Republican percentages summary:\n",
      "count    11.000000\n",
      "mean     37.209091\n",
      "std       3.446869\n",
      "min      32.000000\n",
      "25%      34.500000\n",
      "50%      38.000000\n",
      "75%      39.650000\n",
      "max      43.000000\n",
      "Name: pct, dtype: float64\n",
      "Democratic polls in Montana: 23\n",
      "Republican polls in Montana: 23\n",
      "\n",
      "Democratic percentages summary:\n",
      "count    23.000000\n",
      "mean     35.321739\n",
      "std       4.288564\n",
      "min      28.000000\n",
      "25%      32.650000\n",
      "50%      36.000000\n",
      "75%      38.500000\n",
      "max      42.500000\n",
      "Name: pct, dtype: float64\n",
      "\n",
      "Republican percentages summary:\n",
      "count    23.000000\n",
      "mean     52.543478\n",
      "std       3.973643\n",
      "min      42.000000\n",
      "25%      50.000000\n",
      "50%      51.700000\n",
      "75%      56.000000\n",
      "max      59.000000\n",
      "Name: pct, dtype: float64\n",
      "Democratic polls in New Mexico: 18\n",
      "Republican polls in New Mexico: 18\n",
      "\n",
      "Democratic percentages summary:\n",
      "count    18.000000\n",
      "mean     47.727778\n",
      "std       2.946944\n",
      "min      41.200000\n",
      "25%      47.000000\n",
      "50%      48.500000\n",
      "75%      49.000000\n",
      "max      53.600000\n",
      "Name: pct, dtype: float64\n",
      "\n",
      "Republican percentages summary:\n",
      "count    18.000000\n",
      "mean     41.061111\n",
      "std       2.969084\n",
      "min      35.800000\n",
      "25%      39.250000\n",
      "50%      41.000000\n",
      "75%      42.750000\n",
      "max      47.000000\n",
      "Name: pct, dtype: float64\n",
      "Democratic polls in Connecticut: 6\n",
      "Republican polls in Connecticut: 6\n",
      "\n",
      "Democratic percentages summary:\n",
      "count     6.000000\n",
      "mean     50.616667\n",
      "std       1.748619\n",
      "min      49.000000\n",
      "25%      49.175000\n",
      "50%      50.100000\n",
      "75%      52.000000\n",
      "max      53.000000\n",
      "Name: pct, dtype: float64\n",
      "\n",
      "Republican percentages summary:\n",
      "count     6.000000\n",
      "mean     37.100000\n",
      "std       2.401666\n",
      "min      33.200000\n",
      "25%      36.025000\n",
      "50%      37.550000\n",
      "75%      38.475000\n",
      "max      40.000000\n",
      "Name: pct, dtype: float64\n",
      "Democratic polls in Colorado: 21\n",
      "Republican polls in Colorado: 21\n",
      "\n",
      "Democratic percentages summary:\n",
      "count    21.000000\n",
      "mean     47.028571\n",
      "std       3.903991\n",
      "min      41.000000\n",
      "25%      44.000000\n",
      "50%      47.000000\n",
      "75%      49.000000\n",
      "max      54.800000\n",
      "Name: pct, dtype: float64\n",
      "\n",
      "Republican percentages summary:\n",
      "count    21.000000\n",
      "mean     39.338095\n",
      "std       3.154380\n",
      "min      33.000000\n",
      "25%      36.200000\n",
      "50%      40.000000\n",
      "75%      42.000000\n",
      "max      44.100000\n",
      "Name: pct, dtype: float64\n",
      "Democratic polls in Maine: 28\n",
      "Republican polls in Maine: 28\n",
      "\n",
      "Democratic percentages summary:\n",
      "count    28.000000\n",
      "mean     46.464286\n",
      "std      10.215791\n",
      "min      25.000000\n",
      "25%      40.000000\n",
      "50%      48.500000\n",
      "75%      54.250000\n",
      "max      64.000000\n",
      "Name: pct, dtype: float64\n",
      "\n",
      "Republican percentages summary:\n",
      "count    28.000000\n",
      "mean     40.257143\n",
      "std       5.678317\n",
      "min      27.000000\n",
      "25%      36.825000\n",
      "50%      41.000000\n",
      "75%      44.000000\n",
      "max      51.000000\n",
      "Name: pct, dtype: float64\n",
      "Democratic polls in Missouri: 20\n",
      "Republican polls in Missouri: 20\n",
      "\n",
      "Democratic percentages summary:\n",
      "count    20.000000\n",
      "mean     37.485000\n",
      "std       3.695983\n",
      "min      31.900000\n",
      "25%      34.900000\n",
      "50%      36.600000\n",
      "75%      41.000000\n",
      "max      44.000000\n",
      "Name: pct, dtype: float64\n",
      "\n",
      "Republican percentages summary:\n",
      "count    20.000000\n",
      "mean     52.145000\n",
      "std       3.082459\n",
      "min      45.000000\n",
      "25%      50.150000\n",
      "50%      52.000000\n",
      "75%      54.250000\n",
      "max      58.700000\n",
      "Name: pct, dtype: float64\n",
      "Democratic polls in Arkansas: 5\n",
      "Republican polls in Arkansas: 5\n",
      "\n",
      "Democratic percentages summary:\n",
      "count     5.000000\n",
      "mean     32.720000\n",
      "std       5.731666\n",
      "min      24.400000\n",
      "25%      31.000000\n",
      "50%      33.000000\n",
      "75%      35.200000\n",
      "max      40.000000\n",
      "Name: pct, dtype: float64\n",
      "\n",
      "Republican percentages summary:\n",
      "count     5.00000\n",
      "mean     52.58000\n",
      "std       5.76125\n",
      "min      44.30000\n",
      "25%      49.00000\n",
      "50%      55.00000\n",
      "75%      56.60000\n",
      "max      58.00000\n",
      "Name: pct, dtype: float64\n",
      "Democratic polls in Washington: 23\n",
      "Republican polls in Washington: 23\n",
      "\n",
      "Democratic percentages summary:\n",
      "count    23.000000\n",
      "mean     46.817391\n",
      "std       6.024167\n",
      "min      35.000000\n",
      "25%      42.000000\n",
      "50%      48.000000\n",
      "75%      52.000000\n",
      "max      55.000000\n",
      "Name: pct, dtype: float64\n",
      "\n",
      "Republican percentages summary:\n",
      "count    23.000000\n",
      "mean     36.695652\n",
      "std       4.324400\n",
      "min      25.000000\n",
      "25%      36.000000\n",
      "50%      38.000000\n",
      "75%      38.850000\n",
      "max      46.000000\n",
      "Name: pct, dtype: float64\n",
      "Democratic polls in Oklahoma: 9\n",
      "Republican polls in Oklahoma: 9\n",
      "\n",
      "Democratic percentages summary:\n",
      "count     9.000000\n",
      "mean     31.688889\n",
      "std       5.842398\n",
      "min      23.700000\n",
      "25%      28.000000\n",
      "50%      30.000000\n",
      "75%      35.600000\n",
      "max      40.800000\n",
      "Name: pct, dtype: float64\n",
      "\n",
      "Republican percentages summary:\n",
      "count     9.000000\n",
      "mean     55.755556\n",
      "std       4.874964\n",
      "min      46.400000\n",
      "25%      53.000000\n",
      "50%      56.000000\n",
      "75%      58.700000\n",
      "max      63.000000\n",
      "Name: pct, dtype: float64\n"
     ]
    },
    {
     "name": "stdout",
     "output_type": "stream",
     "text": [
      "Democratic polls in Tennessee: 30\n",
      "Republican polls in Tennessee: 30\n",
      "\n",
      "Democratic percentages summary:\n",
      "count    30.000000\n",
      "mean     28.060000\n",
      "std       4.928426\n",
      "min      18.000000\n",
      "25%      24.250000\n",
      "50%      28.500000\n",
      "75%      31.225000\n",
      "max      36.900000\n",
      "Name: pct, dtype: float64\n",
      "\n",
      "Republican percentages summary:\n",
      "count    30.000000\n",
      "mean     52.400000\n",
      "std       6.858068\n",
      "min      33.000000\n",
      "25%      48.000000\n",
      "50%      52.150000\n",
      "75%      58.300000\n",
      "max      63.100000\n",
      "Name: pct, dtype: float64\n",
      "Democratic polls in West Virginia: 4\n",
      "Republican polls in West Virginia: 4\n",
      "\n",
      "Democratic percentages summary:\n",
      "count     4.000000\n",
      "mean     28.350000\n",
      "std       4.710626\n",
      "min      22.500000\n",
      "25%      26.625000\n",
      "50%      28.450000\n",
      "75%      30.175000\n",
      "max      34.000000\n",
      "Name: pct, dtype: float64\n",
      "\n",
      "Republican percentages summary:\n",
      "count     4.00000\n",
      "mean     58.37500\n",
      "std       2.52768\n",
      "min      55.00000\n",
      "25%      57.40000\n",
      "50%      58.75000\n",
      "75%      59.72500\n",
      "max      61.00000\n",
      "Name: pct, dtype: float64\n",
      "Democratic polls in Vermont: 5\n",
      "Republican polls in Vermont: 5\n",
      "\n",
      "Democratic percentages summary:\n",
      "count     5.000000\n",
      "mean     60.280000\n",
      "std       8.999278\n",
      "min      46.900000\n",
      "25%      58.200000\n",
      "50%      59.300000\n",
      "75%      67.000000\n",
      "max      70.000000\n",
      "Name: pct, dtype: float64\n",
      "\n",
      "Republican percentages summary:\n",
      "count     5.000000\n",
      "mean     28.280000\n",
      "std       0.864292\n",
      "min      27.000000\n",
      "25%      27.900000\n",
      "50%      28.400000\n",
      "75%      29.000000\n",
      "max      29.100000\n",
      "Name: pct, dtype: float64\n",
      "Democratic polls in Oregon: 7\n",
      "Republican polls in Oregon: 7\n",
      "\n",
      "Democratic percentages summary:\n",
      "count     7.000000\n",
      "mean     46.642857\n",
      "std       5.160703\n",
      "min      39.600000\n",
      "25%      42.500000\n",
      "50%      49.000000\n",
      "75%      50.450000\n",
      "max      52.000000\n",
      "Name: pct, dtype: float64\n",
      "\n",
      "Republican percentages summary:\n",
      "count     7.000000\n",
      "mean     38.200000\n",
      "std       4.806593\n",
      "min      29.000000\n",
      "25%      36.950000\n",
      "50%      40.000000\n",
      "75%      40.250000\n",
      "max      44.000000\n",
      "Name: pct, dtype: float64\n",
      "Democratic polls in South Dakota: 5\n",
      "Republican polls in South Dakota: 5\n",
      "\n",
      "Democratic percentages summary:\n",
      "count     5.000000\n",
      "mean     30.200000\n",
      "std       2.922328\n",
      "min      26.400000\n",
      "25%      27.800000\n",
      "50%      31.400000\n",
      "75%      32.600000\n",
      "max      32.800000\n",
      "Name: pct, dtype: float64\n",
      "\n",
      "Republican percentages summary:\n",
      "count     5.0000\n",
      "mean     51.8600\n",
      "std       2.2832\n",
      "min      50.0000\n",
      "25%      50.3000\n",
      "50%      50.6000\n",
      "75%      53.1000\n",
      "max      55.3000\n",
      "Name: pct, dtype: float64\n",
      "Democratic polls in Louisiana: 5\n",
      "Republican polls in Louisiana: 5\n",
      "\n",
      "Democratic percentages summary:\n",
      "count     5.000000\n",
      "mean     34.920000\n",
      "std       2.128849\n",
      "min      33.000000\n",
      "25%      33.000000\n",
      "50%      34.600000\n",
      "75%      36.000000\n",
      "max      38.000000\n",
      "Name: pct, dtype: float64\n",
      "\n",
      "Republican percentages summary:\n",
      "count     5.000000\n",
      "mean     49.640000\n",
      "std       2.539291\n",
      "min      46.000000\n",
      "25%      48.000000\n",
      "50%      51.000000\n",
      "75%      51.200000\n",
      "max      52.000000\n",
      "Name: pct, dtype: float64\n",
      "Democratic polls in Hawaii: 3\n",
      "Republican polls in Hawaii: 3\n",
      "\n",
      "Democratic percentages summary:\n",
      "count     3.000000\n",
      "mean     46.833333\n",
      "std       8.808140\n",
      "min      41.500000\n",
      "25%      41.750000\n",
      "50%      42.000000\n",
      "75%      49.500000\n",
      "max      57.000000\n",
      "Name: pct, dtype: float64\n",
      "\n",
      "Republican percentages summary:\n",
      "count     3.000000\n",
      "mean     32.866667\n",
      "std       5.783886\n",
      "min      26.600000\n",
      "25%      30.300000\n",
      "50%      34.000000\n",
      "75%      36.000000\n",
      "max      38.000000\n",
      "Name: pct, dtype: float64\n",
      "Democratic polls in Alabama: 4\n",
      "Republican polls in Alabama: 4\n",
      "\n",
      "Democratic percentages summary:\n",
      "count     4.000000\n",
      "mean     33.925000\n",
      "std       3.908431\n",
      "min      29.400000\n",
      "25%      31.350000\n",
      "50%      34.250000\n",
      "75%      36.825000\n",
      "max      37.800000\n",
      "Name: pct, dtype: float64\n",
      "\n",
      "Republican percentages summary:\n",
      "count     4.000000\n",
      "mean     56.425000\n",
      "std       0.910586\n",
      "min      55.600000\n",
      "25%      55.675000\n",
      "50%      56.350000\n",
      "75%      57.100000\n",
      "max      57.400000\n",
      "Name: pct, dtype: float64\n",
      "Democratic polls in Idaho: 2\n",
      "Republican polls in Idaho: 2\n",
      "\n",
      "Democratic percentages summary:\n",
      "count     2.000000\n",
      "mean     25.200000\n",
      "std       0.848528\n",
      "min      24.600000\n",
      "25%      24.900000\n",
      "50%      25.200000\n",
      "75%      25.500000\n",
      "max      25.800000\n",
      "Name: pct, dtype: float64\n",
      "\n",
      "Republican percentages summary:\n",
      "count     2.000000\n",
      "mean     54.150000\n",
      "std       0.494975\n",
      "min      53.800000\n",
      "25%      53.975000\n",
      "50%      54.150000\n",
      "75%      54.325000\n",
      "max      54.500000\n",
      "Name: pct, dtype: float64\n",
      "Democratic polls in Kansas: 6\n",
      "Republican polls in Kansas: 6\n",
      "\n",
      "Democratic percentages summary:\n",
      "count     6.000000\n",
      "mean     37.050000\n",
      "std       3.491561\n",
      "min      31.000000\n",
      "25%      35.975000\n",
      "50%      37.800000\n",
      "75%      38.950000\n",
      "max      41.000000\n",
      "Name: pct, dtype: float64\n",
      "\n",
      "Republican percentages summary:\n",
      "count     6.000000\n",
      "mean     49.116667\n",
      "std       3.135868\n",
      "min      43.800000\n",
      "25%      47.750000\n",
      "50%      50.200000\n",
      "75%      51.225000\n",
      "max      52.000000\n",
      "Name: pct, dtype: float64\n",
      "Democratic polls in Kentucky: 4\n",
      "Republican polls in Kentucky: 4\n",
      "\n",
      "Democratic percentages summary:\n",
      "count     4.000000\n",
      "mean     30.675000\n",
      "std       3.522665\n",
      "min      26.300000\n",
      "25%      28.625000\n",
      "50%      31.200000\n",
      "75%      33.250000\n",
      "max      34.000000\n",
      "Name: pct, dtype: float64\n",
      "\n",
      "Republican percentages summary:\n",
      "count     4.00000\n",
      "mean     54.52500\n",
      "std       2.27358\n",
      "min      51.50000\n",
      "25%      53.82500\n",
      "50%      54.80000\n",
      "75%      55.50000\n",
      "max      57.00000\n",
      "Name: pct, dtype: float64\n",
      "Democratic polls in Mississippi: 3\n",
      "Republican polls in Mississippi: 3\n",
      "\n",
      "Democratic percentages summary:\n",
      "count     3.0000\n",
      "mean     36.1000\n",
      "std       0.8544\n",
      "min      35.3000\n",
      "25%      35.6500\n",
      "50%      36.0000\n",
      "75%      36.5000\n",
      "max      37.0000\n",
      "Name: pct, dtype: float64\n",
      "\n",
      "Republican percentages summary:\n",
      "count     3.000000\n",
      "mean     51.000000\n",
      "std       2.645751\n",
      "min      49.000000\n",
      "25%      49.500000\n",
      "50%      50.000000\n",
      "75%      52.000000\n",
      "max      54.000000\n",
      "Name: pct, dtype: float64\n",
      "Democratic polls in Wyoming: 2\n",
      "Republican polls in Wyoming: 2\n",
      "\n",
      "Democratic percentages summary:\n",
      "count     2.000000\n",
      "mean     17.500000\n",
      "std       3.818377\n",
      "min      14.800000\n",
      "25%      16.150000\n",
      "50%      17.500000\n",
      "75%      18.850000\n",
      "max      20.200000\n",
      "Name: pct, dtype: float64\n",
      "\n",
      "Republican percentages summary:\n",
      "count     2.000000\n",
      "mean     60.100000\n",
      "std      10.606602\n",
      "min      52.600000\n",
      "25%      56.350000\n",
      "50%      60.100000\n",
      "75%      63.850000\n",
      "max      67.600000\n",
      "Name: pct, dtype: float64\n"
     ]
    },
    {
     "data": {
      "text/plain": [
       "<Figure size 1600x600 with 0 Axes>"
      ]
     },
     "metadata": {},
     "output_type": "display_data"
    },
    {
     "data": {
      "text/plain": [
       "<Figure size 1600x600 with 0 Axes>"
      ]
     },
     "metadata": {},
     "output_type": "display_data"
    },
    {
     "data": {
      "text/plain": [
       "<Figure size 1600x600 with 0 Axes>"
      ]
     },
     "metadata": {},
     "output_type": "display_data"
    },
    {
     "data": {
      "text/plain": [
       "<Figure size 1600x600 with 0 Axes>"
      ]
     },
     "metadata": {},
     "output_type": "display_data"
    },
    {
     "data": {
      "text/plain": [
       "<Figure size 1600x600 with 0 Axes>"
      ]
     },
     "metadata": {},
     "output_type": "display_data"
    },
    {
     "data": {
      "text/plain": [
       "<Figure size 1600x600 with 0 Axes>"
      ]
     },
     "metadata": {},
     "output_type": "display_data"
    },
    {
     "data": {
      "text/plain": [
       "<Figure size 1600x600 with 0 Axes>"
      ]
     },
     "metadata": {},
     "output_type": "display_data"
    },
    {
     "data": {
      "text/plain": [
       "<Figure size 1600x600 with 0 Axes>"
      ]
     },
     "metadata": {},
     "output_type": "display_data"
    },
    {
     "data": {
      "text/plain": [
       "<Figure size 1600x600 with 0 Axes>"
      ]
     },
     "metadata": {},
     "output_type": "display_data"
    },
    {
     "data": {
      "text/plain": [
       "<Figure size 1600x600 with 0 Axes>"
      ]
     },
     "metadata": {},
     "output_type": "display_data"
    },
    {
     "data": {
      "text/plain": [
       "<Figure size 1600x600 with 0 Axes>"
      ]
     },
     "metadata": {},
     "output_type": "display_data"
    },
    {
     "data": {
      "text/plain": [
       "<Figure size 1600x600 with 0 Axes>"
      ]
     },
     "metadata": {},
     "output_type": "display_data"
    },
    {
     "data": {
      "text/plain": [
       "<Figure size 1600x600 with 0 Axes>"
      ]
     },
     "metadata": {},
     "output_type": "display_data"
    },
    {
     "data": {
      "text/plain": [
       "<Figure size 1600x600 with 0 Axes>"
      ]
     },
     "metadata": {},
     "output_type": "display_data"
    },
    {
     "data": {
      "text/plain": [
       "<Figure size 1600x600 with 0 Axes>"
      ]
     },
     "metadata": {},
     "output_type": "display_data"
    },
    {
     "data": {
      "text/plain": [
       "<Figure size 1600x600 with 0 Axes>"
      ]
     },
     "metadata": {},
     "output_type": "display_data"
    },
    {
     "data": {
      "text/plain": [
       "<Figure size 1600x600 with 0 Axes>"
      ]
     },
     "metadata": {},
     "output_type": "display_data"
    },
    {
     "data": {
      "text/plain": [
       "<Figure size 1600x600 with 0 Axes>"
      ]
     },
     "metadata": {},
     "output_type": "display_data"
    },
    {
     "data": {
      "text/plain": [
       "<Figure size 1600x600 with 0 Axes>"
      ]
     },
     "metadata": {},
     "output_type": "display_data"
    },
    {
     "data": {
      "text/plain": [
       "<Figure size 1600x600 with 0 Axes>"
      ]
     },
     "metadata": {},
     "output_type": "display_data"
    },
    {
     "data": {
      "text/plain": [
       "<Figure size 1600x600 with 0 Axes>"
      ]
     },
     "metadata": {},
     "output_type": "display_data"
    },
    {
     "data": {
      "text/plain": [
       "<Figure size 1600x600 with 0 Axes>"
      ]
     },
     "metadata": {},
     "output_type": "display_data"
    },
    {
     "data": {
      "text/plain": [
       "<Figure size 1600x600 with 0 Axes>"
      ]
     },
     "metadata": {},
     "output_type": "display_data"
    },
    {
     "data": {
      "text/plain": [
       "<Figure size 1600x600 with 0 Axes>"
      ]
     },
     "metadata": {},
     "output_type": "display_data"
    },
    {
     "data": {
      "text/plain": [
       "<Figure size 1600x600 with 0 Axes>"
      ]
     },
     "metadata": {},
     "output_type": "display_data"
    },
    {
     "data": {
      "text/plain": [
       "<Figure size 1600x600 with 0 Axes>"
      ]
     },
     "metadata": {},
     "output_type": "display_data"
    },
    {
     "data": {
      "text/plain": [
       "<Figure size 1600x600 with 0 Axes>"
      ]
     },
     "metadata": {},
     "output_type": "display_data"
    },
    {
     "data": {
      "text/plain": [
       "<Figure size 1600x600 with 0 Axes>"
      ]
     },
     "metadata": {},
     "output_type": "display_data"
    },
    {
     "data": {
      "text/plain": [
       "<Figure size 1600x600 with 0 Axes>"
      ]
     },
     "metadata": {},
     "output_type": "display_data"
    },
    {
     "data": {
      "text/plain": [
       "<Figure size 1600x600 with 0 Axes>"
      ]
     },
     "metadata": {},
     "output_type": "display_data"
    },
    {
     "data": {
      "text/plain": [
       "<Figure size 1600x600 with 0 Axes>"
      ]
     },
     "metadata": {},
     "output_type": "display_data"
    },
    {
     "data": {
      "text/plain": [
       "<Figure size 1600x600 with 0 Axes>"
      ]
     },
     "metadata": {},
     "output_type": "display_data"
    },
    {
     "data": {
      "text/plain": [
       "<Figure size 1600x600 with 0 Axes>"
      ]
     },
     "metadata": {},
     "output_type": "display_data"
    },
    {
     "data": {
      "text/plain": [
       "<Figure size 1600x600 with 0 Axes>"
      ]
     },
     "metadata": {},
     "output_type": "display_data"
    },
    {
     "data": {
      "text/plain": [
       "<Figure size 1600x600 with 0 Axes>"
      ]
     },
     "metadata": {},
     "output_type": "display_data"
    },
    {
     "data": {
      "text/plain": [
       "<Figure size 1600x600 with 0 Axes>"
      ]
     },
     "metadata": {},
     "output_type": "display_data"
    },
    {
     "data": {
      "text/plain": [
       "<Figure size 1600x600 with 0 Axes>"
      ]
     },
     "metadata": {},
     "output_type": "display_data"
    },
    {
     "data": {
      "text/plain": [
       "<Figure size 1600x600 with 0 Axes>"
      ]
     },
     "metadata": {},
     "output_type": "display_data"
    },
    {
     "data": {
      "text/plain": [
       "<Figure size 1600x600 with 0 Axes>"
      ]
     },
     "metadata": {},
     "output_type": "display_data"
    },
    {
     "data": {
      "text/plain": [
       "<Figure size 1600x600 with 0 Axes>"
      ]
     },
     "metadata": {},
     "output_type": "display_data"
    },
    {
     "data": {
      "text/plain": [
       "<Figure size 1600x600 with 0 Axes>"
      ]
     },
     "metadata": {},
     "output_type": "display_data"
    },
    {
     "data": {
      "text/plain": [
       "<Figure size 1600x600 with 0 Axes>"
      ]
     },
     "metadata": {},
     "output_type": "display_data"
    },
    {
     "data": {
      "text/plain": [
       "<Figure size 1600x600 with 0 Axes>"
      ]
     },
     "metadata": {},
     "output_type": "display_data"
    },
    {
     "data": {
      "text/plain": [
       "<Figure size 1600x600 with 0 Axes>"
      ]
     },
     "metadata": {},
     "output_type": "display_data"
    },
    {
     "data": {
      "text/plain": [
       "<Figure size 1600x600 with 0 Axes>"
      ]
     },
     "metadata": {},
     "output_type": "display_data"
    },
    {
     "data": {
      "text/plain": [
       "<Figure size 1600x600 with 0 Axes>"
      ]
     },
     "metadata": {},
     "output_type": "display_data"
    },
    {
     "data": {
      "text/plain": [
       "<Figure size 1600x600 with 0 Axes>"
      ]
     },
     "metadata": {},
     "output_type": "display_data"
    },
    {
     "data": {
      "text/plain": [
       "<Figure size 1600x600 with 0 Axes>"
      ]
     },
     "metadata": {},
     "output_type": "display_data"
    },
    {
     "data": {
      "text/plain": [
       "<Figure size 1600x600 with 0 Axes>"
      ]
     },
     "metadata": {},
     "output_type": "display_data"
    },
    {
     "data": {
      "text/plain": [
       "<Figure size 1600x600 with 0 Axes>"
      ]
     },
     "metadata": {},
     "output_type": "display_data"
    }
   ],
   "source": [
    "for i, state in enumerate(states):\n",
    "    plot_state_party_pct_histograms(pad,state,i)"
   ]
  },
  {
   "cell_type": "code",
   "execution_count": 45,
   "id": "bb8fc036",
   "metadata": {},
   "outputs": [],
   "source": [
    "import matplotlib.dates as mdates\n",
    "\n",
    "def plot_cumulative_polls(df, state,i):\n",
    "    \"\"\"\n",
    "    Plot the cumulative number of polls as a function of time for a specific state.\n",
    "    \n",
    "    Parameters:\n",
    "    df (pandas.DataFrame): The input DataFrame containing polling data.\n",
    "    state (str): The name of the state to plot for.\n",
    "    \n",
    "    Returns:\n",
    "    matplotlib.figure.Figure: The generated plot figure.\n",
    "    \"\"\"\n",
    "    # Filter the dataframe for the specified state and Democratic and Republican parties\n",
    "    state_df = df[(df['state'] == state) & (df['party'].str.lower().isin(['dem', 'rep']))].copy()\n",
    "    \n",
    "    # Separate DataFrames for each party and use only Democratic data\n",
    "    dem_df = state_df[state_df['party'].str.lower() == 'dem'].copy()\n",
    "    \n",
    "    # Ensure end_date is in datetime format\n",
    "    dem_df.loc[:, 'end_date'] = pd.to_datetime(dem_df['end_date'])\n",
    "    \n",
    "    # Sort by end_date\n",
    "    dem_df = dem_df.sort_values('end_date')\n",
    "    \n",
    "    # Calculate cumulative count\n",
    "    dem_df.loc[:, 'cumulative_count'] = range(1, len(dem_df) + 1)\n",
    "    \n",
    "    # Create the plot\n",
    "    fig, ax = plt.subplots(figsize=(5, 5))\n",
    "    \n",
    "    ax.step(dem_df['end_date'], dem_df['cumulative_count'], color='blue')\n",
    "    \n",
    "    # Customize the plot\n",
    "    ax.set_title(f'{state}', fontsize=16)\n",
    "    ax.set_xlabel('Date', fontsize=12)\n",
    "    ax.set_ylabel('Cumulative Number of Polls', fontsize=12)\n",
    "    \n",
    "    # Format x-axis to show dates nicely\n",
    "    ax.xaxis.set_major_formatter(mdates.DateFormatter('%Y-%m-%d'))\n",
    "    ax.xaxis.set_major_locator(mdates.AutoDateLocator())\n",
    "    \n",
    "    # Rotate and align the tick labels so they look better\n",
    "    plt.gcf().autofmt_xdate()\n",
    "    \n",
    "    # Add grid for better readability\n",
    "    ax.grid(True, linestyle='--', alpha=0.7)\n",
    "    \n",
    "    # Show the total number of polls\n",
    "    total_polls = len(dem_df)\n",
    "    ax.text(0.95, 0.95, f'Total Polls: {total_polls}', \n",
    "            verticalalignment='top', horizontalalignment='right',\n",
    "            transform=ax.transAxes, fontsize=12, bbox=dict(facecolor='white', alpha=0.7))\n",
    "    \n",
    "    plt.tight_layout()\n",
    "    plt.savefig('./CDF_polls/%d_%s.png' % (i,state))\n",
    "    plt.clf()\n",
    "    return fig"
   ]
  },
  {
   "cell_type": "code",
   "execution_count": 46,
   "id": "ecd254ce",
   "metadata": {},
   "outputs": [
    {
     "name": "stderr",
     "output_type": "stream",
     "text": [
      "C:\\Users\\Camer\\AppData\\Local\\Temp\\ipykernel_21496\\404436630.py:30: RuntimeWarning: More than 20 figures have been opened. Figures created through the pyplot interface (`matplotlib.pyplot.figure`) are retained until explicitly closed and may consume too much memory. (To control this warning, see the rcParam `figure.max_open_warning`). Consider using `matplotlib.pyplot.close()`.\n",
      "  fig, ax = plt.subplots(figsize=(5, 5))\n"
     ]
    },
    {
     "data": {
      "text/plain": [
       "<Figure size 500x500 with 0 Axes>"
      ]
     },
     "metadata": {},
     "output_type": "display_data"
    },
    {
     "data": {
      "text/plain": [
       "<Figure size 500x500 with 0 Axes>"
      ]
     },
     "metadata": {},
     "output_type": "display_data"
    },
    {
     "data": {
      "text/plain": [
       "<Figure size 500x500 with 0 Axes>"
      ]
     },
     "metadata": {},
     "output_type": "display_data"
    },
    {
     "data": {
      "text/plain": [
       "<Figure size 500x500 with 0 Axes>"
      ]
     },
     "metadata": {},
     "output_type": "display_data"
    },
    {
     "data": {
      "text/plain": [
       "<Figure size 500x500 with 0 Axes>"
      ]
     },
     "metadata": {},
     "output_type": "display_data"
    },
    {
     "data": {
      "text/plain": [
       "<Figure size 500x500 with 0 Axes>"
      ]
     },
     "metadata": {},
     "output_type": "display_data"
    },
    {
     "data": {
      "text/plain": [
       "<Figure size 500x500 with 0 Axes>"
      ]
     },
     "metadata": {},
     "output_type": "display_data"
    },
    {
     "data": {
      "text/plain": [
       "<Figure size 500x500 with 0 Axes>"
      ]
     },
     "metadata": {},
     "output_type": "display_data"
    },
    {
     "data": {
      "text/plain": [
       "<Figure size 500x500 with 0 Axes>"
      ]
     },
     "metadata": {},
     "output_type": "display_data"
    },
    {
     "data": {
      "text/plain": [
       "<Figure size 500x500 with 0 Axes>"
      ]
     },
     "metadata": {},
     "output_type": "display_data"
    },
    {
     "data": {
      "text/plain": [
       "<Figure size 500x500 with 0 Axes>"
      ]
     },
     "metadata": {},
     "output_type": "display_data"
    },
    {
     "data": {
      "text/plain": [
       "<Figure size 500x500 with 0 Axes>"
      ]
     },
     "metadata": {},
     "output_type": "display_data"
    },
    {
     "data": {
      "text/plain": [
       "<Figure size 500x500 with 0 Axes>"
      ]
     },
     "metadata": {},
     "output_type": "display_data"
    },
    {
     "data": {
      "text/plain": [
       "<Figure size 500x500 with 0 Axes>"
      ]
     },
     "metadata": {},
     "output_type": "display_data"
    },
    {
     "data": {
      "text/plain": [
       "<Figure size 500x500 with 0 Axes>"
      ]
     },
     "metadata": {},
     "output_type": "display_data"
    },
    {
     "data": {
      "text/plain": [
       "<Figure size 500x500 with 0 Axes>"
      ]
     },
     "metadata": {},
     "output_type": "display_data"
    },
    {
     "data": {
      "text/plain": [
       "<Figure size 500x500 with 0 Axes>"
      ]
     },
     "metadata": {},
     "output_type": "display_data"
    },
    {
     "data": {
      "text/plain": [
       "<Figure size 500x500 with 0 Axes>"
      ]
     },
     "metadata": {},
     "output_type": "display_data"
    },
    {
     "data": {
      "text/plain": [
       "<Figure size 500x500 with 0 Axes>"
      ]
     },
     "metadata": {},
     "output_type": "display_data"
    },
    {
     "data": {
      "text/plain": [
       "<Figure size 500x500 with 0 Axes>"
      ]
     },
     "metadata": {},
     "output_type": "display_data"
    },
    {
     "data": {
      "text/plain": [
       "<Figure size 500x500 with 0 Axes>"
      ]
     },
     "metadata": {},
     "output_type": "display_data"
    },
    {
     "data": {
      "text/plain": [
       "<Figure size 500x500 with 0 Axes>"
      ]
     },
     "metadata": {},
     "output_type": "display_data"
    },
    {
     "data": {
      "text/plain": [
       "<Figure size 500x500 with 0 Axes>"
      ]
     },
     "metadata": {},
     "output_type": "display_data"
    },
    {
     "data": {
      "text/plain": [
       "<Figure size 500x500 with 0 Axes>"
      ]
     },
     "metadata": {},
     "output_type": "display_data"
    },
    {
     "data": {
      "text/plain": [
       "<Figure size 500x500 with 0 Axes>"
      ]
     },
     "metadata": {},
     "output_type": "display_data"
    },
    {
     "data": {
      "text/plain": [
       "<Figure size 500x500 with 0 Axes>"
      ]
     },
     "metadata": {},
     "output_type": "display_data"
    },
    {
     "data": {
      "text/plain": [
       "<Figure size 500x500 with 0 Axes>"
      ]
     },
     "metadata": {},
     "output_type": "display_data"
    },
    {
     "data": {
      "text/plain": [
       "<Figure size 500x500 with 0 Axes>"
      ]
     },
     "metadata": {},
     "output_type": "display_data"
    },
    {
     "data": {
      "text/plain": [
       "<Figure size 500x500 with 0 Axes>"
      ]
     },
     "metadata": {},
     "output_type": "display_data"
    },
    {
     "data": {
      "text/plain": [
       "<Figure size 500x500 with 0 Axes>"
      ]
     },
     "metadata": {},
     "output_type": "display_data"
    },
    {
     "data": {
      "text/plain": [
       "<Figure size 500x500 with 0 Axes>"
      ]
     },
     "metadata": {},
     "output_type": "display_data"
    },
    {
     "data": {
      "text/plain": [
       "<Figure size 500x500 with 0 Axes>"
      ]
     },
     "metadata": {},
     "output_type": "display_data"
    },
    {
     "data": {
      "text/plain": [
       "<Figure size 500x500 with 0 Axes>"
      ]
     },
     "metadata": {},
     "output_type": "display_data"
    },
    {
     "data": {
      "text/plain": [
       "<Figure size 500x500 with 0 Axes>"
      ]
     },
     "metadata": {},
     "output_type": "display_data"
    },
    {
     "data": {
      "text/plain": [
       "<Figure size 500x500 with 0 Axes>"
      ]
     },
     "metadata": {},
     "output_type": "display_data"
    },
    {
     "data": {
      "text/plain": [
       "<Figure size 500x500 with 0 Axes>"
      ]
     },
     "metadata": {},
     "output_type": "display_data"
    },
    {
     "data": {
      "text/plain": [
       "<Figure size 500x500 with 0 Axes>"
      ]
     },
     "metadata": {},
     "output_type": "display_data"
    },
    {
     "data": {
      "text/plain": [
       "<Figure size 500x500 with 0 Axes>"
      ]
     },
     "metadata": {},
     "output_type": "display_data"
    },
    {
     "data": {
      "text/plain": [
       "<Figure size 500x500 with 0 Axes>"
      ]
     },
     "metadata": {},
     "output_type": "display_data"
    },
    {
     "data": {
      "text/plain": [
       "<Figure size 500x500 with 0 Axes>"
      ]
     },
     "metadata": {},
     "output_type": "display_data"
    },
    {
     "data": {
      "text/plain": [
       "<Figure size 500x500 with 0 Axes>"
      ]
     },
     "metadata": {},
     "output_type": "display_data"
    },
    {
     "data": {
      "text/plain": [
       "<Figure size 500x500 with 0 Axes>"
      ]
     },
     "metadata": {},
     "output_type": "display_data"
    },
    {
     "data": {
      "text/plain": [
       "<Figure size 500x500 with 0 Axes>"
      ]
     },
     "metadata": {},
     "output_type": "display_data"
    },
    {
     "data": {
      "text/plain": [
       "<Figure size 500x500 with 0 Axes>"
      ]
     },
     "metadata": {},
     "output_type": "display_data"
    },
    {
     "data": {
      "text/plain": [
       "<Figure size 500x500 with 0 Axes>"
      ]
     },
     "metadata": {},
     "output_type": "display_data"
    },
    {
     "data": {
      "text/plain": [
       "<Figure size 500x500 with 0 Axes>"
      ]
     },
     "metadata": {},
     "output_type": "display_data"
    },
    {
     "data": {
      "text/plain": [
       "<Figure size 500x500 with 0 Axes>"
      ]
     },
     "metadata": {},
     "output_type": "display_data"
    },
    {
     "data": {
      "text/plain": [
       "<Figure size 500x500 with 0 Axes>"
      ]
     },
     "metadata": {},
     "output_type": "display_data"
    },
    {
     "data": {
      "text/plain": [
       "<Figure size 500x500 with 0 Axes>"
      ]
     },
     "metadata": {},
     "output_type": "display_data"
    },
    {
     "data": {
      "text/plain": [
       "<Figure size 500x500 with 0 Axes>"
      ]
     },
     "metadata": {},
     "output_type": "display_data"
    }
   ],
   "source": [
    "for i, state in enumerate(states):\n",
    "    plot_cumulative_polls(pad,state,i)"
   ]
  },
  {
   "cell_type": "code",
   "execution_count": 56,
   "id": "15038c4c",
   "metadata": {},
   "outputs": [],
   "source": [
    "def plot_cumulative_polls(df, state='all'):\n",
    "    \"\"\"\n",
    "    Plot the cumulative number of polls as a function of time for a specific state or all states.\n",
    "    \n",
    "    Parameters:\n",
    "    df (pandas.DataFrame): The input DataFrame containing polling data.\n",
    "    state (str or list): The name of the state to plot for, or 'all' for all states, or a list of states.\n",
    "    \n",
    "    Returns:\n",
    "    matplotlib.figure.Figure: The generated plot figure.\n",
    "    \"\"\"\n",
    "    fig, ax = plt.subplots(figsize=(5, 5))\n",
    "    \n",
    "    if state == 'all':\n",
    "        states = df['state'].unique()\n",
    "    elif isinstance(state, list):\n",
    "        states = state\n",
    "    else:\n",
    "        states = [state]\n",
    "    \n",
    "    for state in states:\n",
    "        # Filter the dataframe for the specified state and Democratic party\n",
    "        state_df = df[(df['state'] == state) & (df['party'].str.lower() == 'dem')].copy()\n",
    "        \n",
    "        # Ensure end_date is in datetime format and sort\n",
    "        state_df.loc[:, 'end_date'] = pd.to_datetime(state_df['end_date'])\n",
    "        state_df = state_df.sort_values('end_date')\n",
    "        \n",
    "        # Calculate cumulative count\n",
    "        state_df.loc[:, 'cumulative_count'] = range(1, len(state_df) + 1)\n",
    "        \n",
    "        # Plot for this state\n",
    "        ax.plot(state_df['end_date'], state_df['cumulative_count'], label=state)\n",
    "    \n",
    "    # Customize the plot\n",
    "    if len(states) == 1:\n",
    "        ax.set_title(f'Cumulative Number of Polls Over Time in {states[0]}', fontsize=16)\n",
    "    else:\n",
    "        ax.set_title('Cumulative Number of Polls Over Time by State', fontsize=16)\n",
    "    ax.set_xlabel('Date', fontsize=12)\n",
    "    ax.set_ylabel('Cumulative Number of Polls', fontsize=12)\n",
    "    \n",
    "    # Format x-axis to show dates nicely\n",
    "    ax.xaxis.set_major_formatter(mdates.DateFormatter('%Y-%m-%d'))\n",
    "    ax.xaxis.set_major_locator(mdates.AutoDateLocator())\n",
    "    \n",
    "    # Rotate and align the tick labels so they look better\n",
    "    plt.gcf().autofmt_xdate()\n",
    "    \n",
    "    # Add grid for better readability\n",
    "    ax.grid(True, linestyle='--', alpha=0.7)\n",
    "    \n",
    "    # Add legend\n",
    "    if len(states) > 1:\n",
    "        ax.legend(title='States', bbox_to_anchor=(1.05, 1), loc='upper left')\n",
    "    \n",
    "    plt.tight_layout()\n",
    "    #plt.yscale('log')\n",
    "    return fig"
   ]
  },
  {
   "cell_type": "code",
   "execution_count": 57,
   "id": "6562eaf0",
   "metadata": {},
   "outputs": [
    {
     "name": "stderr",
     "output_type": "stream",
     "text": [
      "C:\\Users\\Camer\\AppData\\Local\\Temp\\ipykernel_21496\\475951936.py:57: UserWarning: Tight layout not applied. The bottom and top margins cannot be made large enough to accommodate all axes decorations.\n",
      "  plt.tight_layout()\n"
     ]
    },
    {
     "data": {
      "image/png": "[encoded data removed]",
      "text/plain": [
       "<Figure size 500x500 with 1 Axes>"
      ]
     },
     "metadata": {},
     "output_type": "display_data"
    }
   ],
   "source": [
    "plot_cumulative_polls(pad)\n",
    "plt.show()"
   ]
  },
  {
   "cell_type": "code",
   "execution_count": 72,
   "id": "6b063ed6",
   "metadata": {},
   "outputs": [],
   "source": [
    "def plot_cumulative_polls_n_states(df, n=5, top=True):\n",
    "    \"\"\"\n",
    "    Plot the cumulative number of polls over time for the top N or bottom N states by poll count.\n",
    "    \n",
    "    Parameters:\n",
    "    df (pandas.DataFrame): The input DataFrame containing polling data.\n",
    "    n (int): The number of states to plot. Default is 5.\n",
    "    top (bool): If True, plot top N states. If False, plot bottom N states. Default is True.\n",
    "    \n",
    "    Returns:\n",
    "    matplotlib.figure.Figure: The generated plot figure.\n",
    "    \"\"\"\n",
    "    # Count polls for each state\n",
    "    state_poll_counts = df[df['party'].str.lower() == 'dem']['state'].value_counts()\n",
    "    \n",
    "    # Get top N or bottom N states\n",
    "    if top:\n",
    "        selected_states = state_poll_counts.head(n).index.tolist()\n",
    "        title_prefix = f\"Top {n}\"\n",
    "    else:\n",
    "        selected_states = state_poll_counts.tail(n).index.tolist()\n",
    "        title_prefix = f\"Bottom {n}\"\n",
    "\n",
    "    # Create the figure\n",
    "    fig, ax = plt.subplots(figsize=(10, 6))\n",
    "\n",
    "    for state in selected_states:\n",
    "        # Filter the dataframe for the specified state and Democratic party\n",
    "        state_df = df[(df['state'] == state) & (df['party'].str.lower() == 'dem')].copy()\n",
    "        \n",
    "        # Ensure end_date is in datetime format and sort\n",
    "        state_df.loc[:, 'end_date'] = pd.to_datetime(state_df['end_date'])\n",
    "        state_df = state_df.sort_values('end_date')\n",
    "        \n",
    "        # Calculate cumulative count\n",
    "        state_df.loc[:, 'cumulative_count'] = range(1, len(state_df) + 1)\n",
    "        \n",
    "        # Plot for this state\n",
    "        ax.step(state_df['end_date'], state_df['cumulative_count'], lw=2,label=f\"{state} ({len(state_df)})\")\n",
    "    \n",
    "    # Customize the plot\n",
    "    ax.set_title(f'{title_prefix} States by Number of Polls', fontsize=16)\n",
    "    ax.set_xlabel('Date', fontsize=16)\n",
    "    ax.set_ylabel('Cumulative Number of Polls', fontsize=15)\n",
    "    \n",
    "    # Format x-axis to show dates nicely\n",
    "    ax.xaxis.set_major_formatter(mdates.DateFormatter('%Y-%m-%d'))\n",
    "    ax.xaxis.set_major_locator(mdates.AutoDateLocator())\n",
    "    \n",
    "    # Rotate and align the tick labels so they look better\n",
    "    plt.gcf().autofmt_xdate()\n",
    "    \n",
    "    # Add grid for better readability\n",
    "    ax.grid(True, linestyle='--', alpha=0.7)\n",
    "    \n",
    "    # Add legend\n",
    "    ax.legend(title='States (Total Polls)', loc='center left', bbox_to_anchor=(1, 0.5))\n",
    "\n",
    "    plt.tight_layout()"
   ]
  },
  {
   "cell_type": "code",
   "execution_count": 73,
   "id": "014c371c",
   "metadata": {},
   "outputs": [
    {
     "data": {
      "image/png": "[encoded data removed]",
      "text/plain": [
       "<Figure size 1000x600 with 1 Axes>"
      ]
     },
     "metadata": {},
     "output_type": "display_data"
    }
   ],
   "source": [
    "plot_cumulative_polls_n_states(pad,10)"
   ]
  },
  {
   "cell_type": "code",
   "execution_count": 74,
   "id": "0e9f3142",
   "metadata": {},
   "outputs": [
    {
     "data": {
      "image/png": "[encoded data removed]",
      "text/plain": [
       "<Figure size 1000x600 with 1 Axes>"
      ]
     },
     "metadata": {},
     "output_type": "display_data"
    }
   ],
   "source": [
    "plot_cumulative_polls_n_states(pad,10,top=False)"
   ]
  },
  {
   "cell_type": "code",
   "execution_count": null,
   "id": "2c863368",
   "metadata": {},
   "outputs": [],
   "source": []
  }
 ],
 "metadata": {
  "kernelspec": {
   "display_name": "Python 3 (ipykernel)",
   "language": "python",
   "name": "python3"
  },
  "language_info": {
   "codemirror_mode": {
    "name": "ipython",
    "version": 3
   },
   "file_extension": ".py",
   "mimetype": "text/x-python",
   "name": "python",
   "nbconvert_exporter": "python",
   "pygments_lexer": "ipython3",
   "version": "3.11.7"
  }
 },
 "nbformat": 4,
 "nbformat_minor": 5
}
